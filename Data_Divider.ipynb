{
 "cells": [
  {
   "cell_type": "markdown",
   "id": "61ddf4e2-cf25-4316-8ba0-d5fa0c336431",
   "metadata": {},
   "source": [
    "# Creating the data divider "
   ]
  },
  {
   "cell_type": "code",
   "execution_count": 1,
   "id": "d31e3154-ef98-4d46-a11b-482e1399bf60",
   "metadata": {},
   "outputs": [
    {
     "name": "stdout",
     "output_type": "stream",
     "text": [
      "Created output folder: 'new_csv_files'\n",
      "Successfully read input file: 'mapped_dataset_Normalized_version.csv'\n",
      "Saved new file: 'new_csv_files\\file_1.csv'\n",
      "Saved new file: 'new_csv_files\\file_2.csv'\n",
      "Saved new file: 'new_csv_files\\file_3.csv'\n",
      "Saved new file: 'new_csv_files\\file_4.csv'\n",
      "Saved new file: 'new_csv_files\\file_5.csv'\n",
      "Saved new file: 'new_csv_files\\file_6.csv'\n",
      "Saved new file: 'new_csv_files\\file_7.csv'\n",
      "Saved new file: 'new_csv_files\\file_8.csv'\n",
      "Saved new file: 'new_csv_files\\file_9.csv'\n",
      "Saved new file: 'new_csv_files\\file_10.csv'\n",
      "Saved new file: 'new_csv_files\\file_11.csv'\n",
      "Saved new file: 'new_csv_files\\file_12.csv'\n",
      "Saved new file: 'new_csv_files\\file_13.csv'\n",
      "\n",
      "--- Process Complete ---\n"
     ]
    }
   ],
   "source": [
    "import pandas as pd\n",
    "import os\n",
    "\n",
    "# --- Configuration ---\n",
    "input_file = \"mapped_dataset_Normalized_version.csv\"  # ⚠️ Replace with the name of your CSV file\n",
    "output_folder = 'new_csv_files' # You can change the name of the output folder\n",
    "\n",
    "# --- Step 1: Create the output folder if it doesn't exist ---\n",
    "if not os.path.exists(output_folder):\n",
    "    os.makedirs(output_folder)\n",
    "    print(f\"Created output folder: '{output_folder}'\")\n",
    "\n",
    "# --- Step 2: Read the main CSV file ---\n",
    "try:\n",
    "    df = pd.read_csv(input_file)\n",
    "    print(f\"Successfully read input file: '{input_file}'\")\n",
    "except FileNotFoundError:\n",
    "    print(f\"Error: The file '{input_file}' was not found.\")\n",
    "    exit()\n",
    "\n",
    "# --- Step 3: Identify the columns and split the data ---\n",
    "# The last column (the 14th) will be the second column in all new files\n",
    "column_14 = df.columns[-1]\n",
    "\n",
    "# The first 13 columns will be the first column in each new file\n",
    "main_columns = df.columns[:13]\n",
    "\n",
    "for i, col in enumerate(main_columns):\n",
    "    # Create a new DataFrame with the current main column and the 14th column\n",
    "    new_df = df[[col, column_14]].copy()\n",
    "\n",
    "    # Define the new file name\n",
    "    output_file_path = os.path.join(output_folder, f'file_{i+1}.csv')\n",
    "\n",
    "    # Save the new DataFrame to a new CSV file\n",
    "    new_df.to_csv(output_file_path, index=False)\n",
    "    print(f\"Saved new file: '{output_file_path}'\")\n",
    "\n",
    "print(\"\\n--- Process Complete ---\")"
   ]
  }
 ],
 "metadata": {
  "kernelspec": {
   "display_name": "Python 3 (ipykernel)",
   "language": "python",
   "name": "python3"
  },
  "language_info": {
   "codemirror_mode": {
    "name": "ipython",
    "version": 3
   },
   "file_extension": ".py",
   "mimetype": "text/x-python",
   "name": "python",
   "nbconvert_exporter": "python",
   "pygments_lexer": "ipython3",
   "version": "3.11.4"
  }
 },
 "nbformat": 4,
 "nbformat_minor": 5
}
